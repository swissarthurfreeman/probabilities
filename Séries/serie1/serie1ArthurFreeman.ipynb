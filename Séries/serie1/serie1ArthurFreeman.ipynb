{
 "cells": [
  {
   "cell_type": "markdown",
   "metadata": {},
   "source": [
    "# Probabilités et statistiques pour informaticiens"
   ]
  },
  {
   "cell_type": "markdown",
   "metadata": {},
   "source": [
    "# Série 1)"
   ]
  },
  {
   "cell_type": "markdown",
   "metadata": {},
   "source": [
    "# 1) Dénombrabilité"
   ]
  },
  {
   "cell_type": "markdown",
   "metadata": {},
   "source": [
    "a)"
   ]
  },
  {
   "cell_type": "code",
   "execution_count": 44,
   "metadata": {},
   "outputs": [
    {
     "name": "stdout",
     "output_type": "stream",
     "text": [
      "['0', '1', '00', '01', '10', '11', '000', '001', '010', '011', '100', '101', '110', '111', '0000', '0001', '0010', '0011', '0100', '0101', '0110', '0111', '1000', '1001', '1010', '1011', '1100', '1101', '1110', '1111']\n"
     ]
    }
   ],
   "source": [
    "def pad(p, n): #Pad adds zeros in front of bin number for formatting.\n",
    "    return '0'*(p - len(n)) + n \n",
    "\n",
    "#Works by computing {0,1...2^i} for i changing as much as required, then concatenates all arrays.\n",
    "def calcTable(n):\n",
    "    if n == 0: return 0 #Nothing to do here.\n",
    "    arr = [] \n",
    "    m = len(bin(n)[2:]) #m is the amount of characters required to write the input in binary.\n",
    "    for i in range(0, m+1): #i is the current length of words in sub array.\n",
    "        for k in range(0, 2**i): #k calculates every value from 0 to 2^i. \n",
    "            arr += [pad(i, bin(k)[2:])] #we concatenate every value using correct padding.\n",
    "    arr.pop(0) #I don't want to have two zeroes at the start.\n",
    "    return arr #I return array, but you can return arr[n] for said value.\n",
    "\n",
    "print(calcTable(10)) #NB: I know this is not the most efficient way of doing this."
   ]
  },
  {
   "cell_type": "markdown",
   "metadata": {},
   "source": [
    "b)"
   ]
  },
  {
   "attachments": {
    "Capt11ure.PNG": {
     "image/png": "[encoded data removed]"
    }
   },
   "cell_type": "markdown",
   "metadata": {},
   "source": [
    "\n",
    "By writing $N \\times N$ as a table of values, I find the algorithm is as follows : \n",
    "\n",
    "_1) Place yourself on the correct diagonal._\n",
    "\n",
    "_2) Advance as much as necessary on said diagonal._\n",
    "![Capt11ure.PNG](attachment:Capt11ure.PNG)\n",
    "\n",
    "This is done with the following equations, (which I learnt from Samuel Simko after much trial and error) \n",
    "\n"
   ]
  },
  {
   "cell_type": "markdown",
   "metadata": {},
   "source": [
    "$x := max \\{x | \\sum_{i = 0}^x i = \\frac{x(x+1)}{2} \\leq n \\} $\n",
    "\n",
    "$\\lambda = n - \\frac{x(x+1)}{2} $ with $ b(n) := (x - \\lambda, \\lambda)$"
   ]
  },
  {
   "cell_type": "markdown",
   "metadata": {},
   "source": [
    "Here's the logic behind this equation, say $n = 12, b(n) = (2,2)$ according to the table, but how do we calculate it ? Well we need to get on the right diagonal, which in this case starts at $x = 10$, and what we notice is that the second line follows the sequence : $0, 1, 3, 6, 10, 15$ we first add one, then two, then 3 then 4, it's a good old sum of increasing integers. So if we want to find the index corresponding to the beggining of the diagonal, we must look for the maximum of $\\sum_{i=0}^x i \\leq n$ this explains the choice of $x$. \n",
    "\n",
    "With this choice of x, $\\frac{x(x+1)}{2}$ will give us the index of the start of the diagonal.\n",
    "Once $x$ is obtained, we must go down the diagonal (or up depending on how you draw the table) until we reach the correct index, $n$. To do this, we must realise that we will go down by $ \\lambda := n - \\frac{x(x+1)}{2}$ diagonally. When going down the diagonal, $x(n)$ is decreased by lambda, but $y(n)$ is increased by lambda. Which explains why $x(n) = x - \\lambda$ and $y(n) = \\lambda$.\n",
    "\n",
    "The code that calculates this follows."
   ]
  },
  {
   "cell_type": "code",
   "execution_count": 45,
   "metadata": {},
   "outputs": [
    {
     "name": "stdout",
     "output_type": "stream",
     "text": [
      "(1.0, 6.0)\n"
     ]
    }
   ],
   "source": [
    "def findX(n):\n",
    "    for i in range(1,n):\n",
    "        if n - (i*(i+1))/2 < 0:\n",
    "            return i-1\n",
    "        \n",
    "def calcNCrossN(n):\n",
    "    x = findX(n)\n",
    "    lamb = n - (x*(x+1))/2\n",
    "    return (x - lamb, lamb)\n",
    "\n",
    "\n",
    "print(calcNCrossN(34))"
   ]
  },
  {
   "cell_type": "markdown",
   "metadata": {},
   "source": [
    "Exercice 2,3,4) Théorie des ensembles et mesure de probabilité\n",
    "\n",
    "NB : Je rends les réponses au papier, car il n'y a pas de code demandé."
   ]
  },
  {
   "cell_type": "markdown",
   "metadata": {},
   "source": [
    "![title](Photos/1.jpg)"
   ]
  },
  {
   "cell_type": "markdown",
   "metadata": {},
   "source": [
    "![title](Photos/2.jpg)"
   ]
  },
  {
   "cell_type": "markdown",
   "metadata": {},
   "source": [
    "![title](Photos/3.jpg)"
   ]
  },
  {
   "cell_type": "markdown",
   "metadata": {},
   "source": [
    "![title](Photos/4.jpg)"
   ]
  },
  {
   "cell_type": "code",
   "execution_count": null,
   "metadata": {},
   "outputs": [],
   "source": []
  }
 ],
 "metadata": {
  "kernelspec": {
   "display_name": "Python 3",
   "language": "python",
   "name": "python3"
  },
  "language_info": {
   "codemirror_mode": {
    "name": "ipython",
    "version": 3
   },
   "file_extension": ".py",
   "mimetype": "text/x-python",
   "name": "python",
   "nbconvert_exporter": "python",
   "pygments_lexer": "ipython3",
   "version": "3.8.3"
  }
 },
 "nbformat": 4,
 "nbformat_minor": 4
}
